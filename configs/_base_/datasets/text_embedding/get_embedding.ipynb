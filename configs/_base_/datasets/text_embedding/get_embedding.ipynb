{
 "cells": [
  {
   "cell_type": "code",
   "execution_count": null,
   "metadata": {},
   "outputs": [],
   "source": [
    "## VOC12\n",
    "VOC12_classes = ['aeroplane', 'bicycle', 'bird', 'boat', 'bottle',\n",
    "               'bus', 'car', 'cat', 'chair', 'cow', 'diningtable', 'dog',\n",
    "               'horse', 'motorbike', 'person', 'pottedplant', 'sheep', 'sofa',\n",
    "               'train', 'tvmonitor']\n",
    "## CONTEXT\n",
    "CONTEXT_classes = ('aeroplane', 'bag', 'bed', 'bedclothes', 'bench', 'bicycle',\n",
    "        'bird', 'boat', 'book', 'bottle', 'building', 'bus', 'cabinet',\n",
    "        'car', 'cat', 'ceiling', 'chair', 'cloth', 'computer', 'cow',\n",
    "        'cup', 'curtain', 'dog', 'door', 'fence', 'floor', 'flower',\n",
    "        'food', 'grass', 'ground', 'horse', 'keyboard', 'light',\n",
    "        'motorbike', 'mountain', 'mouse', 'person', 'plate', 'platform',\n",
    "        'pottedplant', 'road', 'rock', 'sheep', 'shelves', 'sidewalk',\n",
    "        'sign', 'sky', 'snow', 'sofa', 'table', 'track', 'train',\n",
    "        'tree', 'truck', 'tv monitor', 'wall', 'water', 'window', 'wood')\n",
    "\n",
    "## COCO\n",
    "COCO_classes = ['person', 'bicycle', 'car', 'motorcycle', 'airplane', 'bus', 'train',\n",
    "        'truck', 'boat', 'traffic light', 'fire hydrant', 'stop sign',\n",
    "        'parking meter', 'bench', 'bird', 'cat', 'dog', 'horse', 'sheep',\n",
    "        'cow', 'elephant', 'bear', 'zebra', 'giraffe', 'backpack', 'umbrella',\n",
    "        'handbag', 'tie', 'suitcase', 'frisbee', 'skis', 'snowboard',\n",
    "        'sports ball', 'kite', 'baseball bat', 'baseball glove', 'skateboard',\n",
    "        'surfboard', 'tennis racket', 'bottle', 'wine glass', 'cup', 'fork',\n",
    "        'knife', 'spoon', 'bowl', 'banana', 'apple', 'sandwich', 'orange',\n",
    "        'broccoli', 'carrot', 'hot dog', 'pizza', 'donut', 'cake', 'chair',\n",
    "        'couch', 'potted plant', 'bed', 'dining table', 'toilet', 'tv',\n",
    "        'laptop', 'mouse', 'remote', 'keyboard', 'cell phone', 'microwave',\n",
    "        'oven', 'toaster', 'sink', 'refrigerator', 'book', 'clock', 'vase',\n",
    "        'scissors', 'teddy bear', 'hair drier', 'toothbrush', 'banner',\n",
    "        'blanket', 'branch', 'bridge', 'building-other', 'bush', 'cabinet',\n",
    "        'cage', 'cardboard', 'carpet', 'ceiling-other', 'ceiling-tile',\n",
    "        'cloth', 'clothes', 'clouds', 'counter', 'cupboard', 'curtain',\n",
    "        'desk-stuff', 'dirt', 'door-stuff', 'fence', 'floor-marble',\n",
    "        'floor-other', 'floor-stone', 'floor-tile', 'floor-wood',\n",
    "        'flower', 'fog', 'food-other', 'fruit', 'furniture-other', 'grass',\n",
    "        'gravel', 'ground-other', 'hill', 'house', 'leaves', 'light', 'mat',\n",
    "        'metal', 'mirror-stuff', 'moss', 'mountain', 'mud', 'napkin', 'net',\n",
    "        'paper', 'pavement', 'pillow', 'plant-other', 'plastic', 'platform',\n",
    "        'playingfield', 'railing', 'railroad', 'river', 'road', 'rock', 'roof',\n",
    "        'rug', 'salad', 'sand', 'sea', 'shelf', 'sky-other', 'skyscraper',\n",
    "        'snow', 'solid-other', 'stairs', 'stone', 'straw', 'structural-other',\n",
    "        'table', 'tent', 'textile-other', 'towel', 'tree', 'vegetable',\n",
    "        'wall-brick', 'wall-concrete', 'wall-other', 'wall-panel',\n",
    "        'wall-stone', 'wall-tile', 'wall-wood', 'water-other', 'waterdrops',\n",
    "        'window-blind', 'window-other', 'wood']\n",
    "\n",
    "templates_6 = [\n",
    "    'a photo of a {}.',\n",
    "    'a portrait of a {}.',\n",
    "    'a part of a {}.',\n",
    "    'a segment of a {}.',\n",
    "    'a photo of small {}.',\n",
    "    'a photo of medium {}.',\n",
    "    ]\n",
    "\n",
    "templates_8 = [\n",
    "    'a photo of a {}.',\n",
    "    'a portrait of a {}.',\n",
    "    'a part of a {}.',\n",
    "    'a segment of a {}.',\n",
    "    'a photo of small {}.',\n",
    "    'a photo of medium {}.',\n",
    "    'a photo of large {}.',\n",
    "    'a background of a {}.'\n",
    "    ]"
   ]
  },
  {
   "cell_type": "code",
   "execution_count": null,
   "metadata": {},
   "outputs": [],
   "source": [
    "pip install git+https://github.com/openai/CLIP.git"
   ]
  },
  {
   "cell_type": "code",
   "execution_count": null,
   "metadata": {},
   "outputs": [],
   "source": [
    "### From CLIP https://colab.research.google.com/github/openai/clip\n",
    "import torch\n",
    "import numpy as np\n",
    "import clip\n",
    "device = \"cuda\" if torch.cuda.is_available() else \"cpu\"\n",
    "model, preprocess = clip.load('ViT-B/16', device)\n",
    "\n",
    "## multi templates\n",
    "def multi_templete(save_path, class_names, model, templates):\n",
    "    with torch.no_grad():\n",
    "        texts = []\n",
    "        for template in templates:\n",
    "            template_embeddings = []\n",
    "            for c in class_names:\n",
    "                t = clip.tokenize(template.format(c))\n",
    "                template_embeddings.append(t)\n",
    "            t_s = torch.cat(template_embeddings)\n",
    "            texts.append(t_s)\n",
    "        texts = torch.stack(texts, dim=1)\n",
    "        num_cls, num_prompts, _ = texts.size()  \n",
    "        text_embeddings = model.encode_text(texts.reshape(num_cls*num_prompts, -1).to(device))\n",
    "        text_feat = text_embeddings / text_embeddings.norm(dim=-1, keepdim=True)\n",
    "        text_feat = text_feat.reshape(num_cls, num_prompts, -1)    \n",
    "        text_feat = text_feat / text_feat.norm(dim=-1, keepdim=True)   \n",
    "        np.save(save_path, text_feat.detach().cpu().numpy())\n",
    "    return text_embeddings"
   ]
  },
  {
   "cell_type": "code",
   "execution_count": null,
   "metadata": {},
   "outputs": [],
   "source": [
    "## COCO:\n",
    "save_path='Path/to/text_embeddings/coco_otseg.npy'\n",
    "text_embeddings = multi_templete(save_path, COCO_classes, model, templates_8)"
   ]
  },
  {
   "cell_type": "code",
   "execution_count": null,
   "metadata": {},
   "outputs": [],
   "source": [
    "## VOC12:\n",
    "save_path='Path/to/text_embedding/voc12_otseg.npy'\n",
    "text_embeddings = multi_templete(save_path, VOC12_classes, model, templates_6)\n",
    "\n",
    "## CONTEXT:\n",
    "save_path='Path/to/text_embedding/context_otseg.npy'\n",
    "text_embeddings = multi_templete(save_path, CONTEXT_classes, model, templates_8)"
   ]
  }
 ],
 "metadata": {
  "kernelspec": {
   "display_name": "Python 3.7.13 64-bit ('pt10': conda)",
   "language": "python",
   "name": "python3"
  },
  "language_info": {
   "codemirror_mode": {
    "name": "ipython",
    "version": 3
   },
   "file_extension": ".py",
   "mimetype": "text/x-python",
   "name": "python",
   "nbconvert_exporter": "python",
   "pygments_lexer": "ipython3",
   "version": "3.10.13"
  },
  "orig_nbformat": 4,
  "vscode": {
   "interpreter": {
    "hash": "d51e6962ef4cca746a608d0a67209086d135a3414651ca2ba27acebb6daa21dd"
   }
  }
 },
 "nbformat": 4,
 "nbformat_minor": 2
}
